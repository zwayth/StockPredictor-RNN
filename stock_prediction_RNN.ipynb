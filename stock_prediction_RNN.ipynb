{
 "cells": [
  {
   "cell_type": "code",
   "execution_count": 104,
   "id": "0e0dd336-82a1-4d78-aafc-baa2cf96ab18",
   "metadata": {},
   "outputs": [],
   "source": [
    "# Import Required Libraries\n",
    "import pandas as pd\n",
    "from matplotlib import pyplot as plt\n",
    "import seaborn as sns\n",
    "import csv\n",
    "import numpy as np\n",
    "import torch\n",
    "import torch.nn as nn\n",
    "from sklearn.model_selection import train_test_split\n",
    "from sklearn.preprocessing import MinMaxScaler\n",
    "from sklearn.metrics import mean_squared_error, mean_absolute_error"
   ]
  },
  {
   "cell_type": "code",
   "execution_count": 106,
   "id": "92d063cd-31b9-4da1-ab3f-a28d11c52ad5",
   "metadata": {},
   "outputs": [],
   "source": [
    "# Load Data\n",
    "data = pd.read_csv('/path/to/your/data.csv')"
   ]
  },
  {
   "cell_type": "code",
   "execution_count": 108,
   "id": "9edc4063-31b4-4811-a0c3-b3d6a4ef7942",
   "metadata": {},
   "outputs": [
    {
     "name": "stdout",
     "output_type": "stream",
     "text": [
      "        Date       Open       High        Low      Close    Volume\n",
      "0  8/19/2004  50.050049  52.082081  48.028027  50.220219  44659096\n",
      "1  8/20/2004  50.555557  54.594597  50.300301  54.209209  22834343\n",
      "2  8/23/2004  55.430431  56.796799  54.579578  54.754753  18256126\n",
      "3  8/24/2004  55.675674  55.855858  51.836838  52.487488  15247337\n",
      "4  8/25/2004  52.532532  54.054054  51.991993  53.053055   9188602\n",
      "<class 'pandas.core.frame.DataFrame'>\n",
      "RangeIndex: 4431 entries, 0 to 4430\n",
      "Data columns (total 6 columns):\n",
      " #   Column  Non-Null Count  Dtype  \n",
      "---  ------  --------------  -----  \n",
      " 0   Date    4431 non-null   object \n",
      " 1   Open    4431 non-null   float64\n",
      " 2   High    4431 non-null   float64\n",
      " 3   Low     4431 non-null   float64\n",
      " 4   Close   4431 non-null   float64\n",
      " 5   Volume  4431 non-null   int64  \n",
      "dtypes: float64(4), int64(1), object(1)\n",
      "memory usage: 207.8+ KB\n",
      "None\n"
     ]
    }
   ],
   "source": [
    "# Display Data and Info\n",
    "print(data.head())\n",
    "print(data.info())"
   ]
  },
  {
   "cell_type": "code",
   "execution_count": 109,
   "id": "e32154f9-cf55-445f-b5e5-744c366e13f2",
   "metadata": {},
   "outputs": [],
   "source": [
    "# Convert Data Types\n",
    "data['Close'] = data['Close'].astype(float)\n",
    "data['Open'] = data['Open'].astype(float)\n",
    "data['High'] = data['High'].astype(float)\n",
    "data['Low'] = data['Low'].astype(float)"
   ]
  },
  {
   "cell_type": "code",
   "execution_count": 111,
   "id": "bb7912a2-9043-45f9-b661-57b8f7f29b22",
   "metadata": {},
   "outputs": [],
   "source": [
    "# Scale Data\n",
    "scaler = MinMaxScaler(feature_range=(0, 1))\n",
    "scaled_data = scaler.fit_transform(data[['Open', 'High', 'Low', 'Close', 'Volume']])"
   ]
  },
  {
   "cell_type": "code",
   "execution_count": 112,
   "id": "08dfd9a6-658f-4d2c-82c2-4f8a6dc64fb3",
   "metadata": {},
   "outputs": [],
   "source": [
    "# Function to Create Sequences\n",
    "def create_sequences(data, seq_length):\n",
    "    sequences = []\n",
    "    for i in range(len(data) - seq_length):\n",
    "        sequence = data[i:i + seq_length]\n",
    "        sequences.append(sequence)\n",
    "    return np.array(sequences)"
   ]
  },
  {
   "cell_type": "code",
   "execution_count": 114,
   "id": "79da4bb8-f089-4214-9b3d-0de639ac7494",
   "metadata": {},
   "outputs": [],
   "source": [
    "# Parameters\n",
    "SEQ_LENGTH = 100 # Sequence length\n",
    "PREDICT_STEPS = 1 # Prediction steps"
   ]
  },
  {
   "cell_type": "code",
   "execution_count": 115,
   "id": "33304998-bd10-4efd-9e5b-86524513fea3",
   "metadata": {},
   "outputs": [],
   "source": [
    "# Create Sequences\n",
    "sequences = create_sequences(scaled_data, SEQ_LENGTH + PREDICT_STEPS)"
   ]
  },
  {
   "cell_type": "code",
   "execution_count": 116,
   "id": "b1d4b80d-aafa-4567-a209-43afce9aa808",
   "metadata": {},
   "outputs": [],
   "source": [
    "# Split Data\n",
    "X = sequences[:, :-PREDICT_STEPS]\n",
    "y = sequences[:, -PREDICT_STEPS:]"
   ]
  },
  {
   "cell_type": "code",
   "execution_count": 119,
   "id": "c98ff6c1-f426-414f-9dd6-6525ece11216",
   "metadata": {},
   "outputs": [],
   "source": [
    "X_train, X_val, y_train, y_val = train_test_split(X, y, test_size=0.2, shuffle=False)"
   ]
  },
  {
   "cell_type": "code",
   "execution_count": 120,
   "id": "d0e5dbbf-f128-4a94-928d-15cdeba21377",
   "metadata": {},
   "outputs": [],
   "source": [
    "# Convert to Tensors\n",
    "X_train = torch.from_numpy(X_train).float()\n",
    "y_train = torch.from_numpy(y_train).float()\n",
    "X_val = torch.from_numpy(X_val).float()\n",
    "y_val = torch.from_numpy(y_val).float()"
   ]
  },
  {
   "cell_type": "code",
   "execution_count": 121,
   "id": "6a53202e-a16c-4a73-a4c9-680558c20f53",
   "metadata": {},
   "outputs": [],
   "source": [
    "# Squeeze y\n",
    "y_train = y_train.squeeze(1)\n",
    "y_val = y_val.squeeze(1)"
   ]
  },
  {
   "cell_type": "code",
   "execution_count": 122,
   "id": "5d3b6022-5609-4949-9a0e-3bad88e88961",
   "metadata": {},
   "outputs": [],
   "source": [
    "# Define RNN Model\n",
    "class SimpleRNN(nn.Module):\n",
    "    def __init__(self, input_size, hidden_size, output_size):\n",
    "        super(SimpleRNN, self).__init__()\n",
    "        self.hidden_size = hidden_size\n",
    "        self.rnn = nn.RNN(input_size, hidden_size, batch_first=True)\n",
    "        self.fc = nn.Linear(hidden_size, output_size)\n",
    "\n",
    "    def forward(self, x):\n",
    "        h0 = torch.zeros(1, x.size(0), self.hidden_size).to(x.device)\n",
    "        out, _ = self.rnn(x, h0)\n",
    "        out = self.fc(out[:, -1, :])\n",
    "        return out"
   ]
  },
  {
   "cell_type": "code",
   "execution_count": 123,
   "id": "3d6e6b08-7016-4e73-8c5b-227a8566b451",
   "metadata": {},
   "outputs": [],
   "source": [
    "# Initialize Model\n",
    "input_size = 5  # Number of features\n",
    "hidden_size = 100\n",
    "#output_size = 5\n",
    "model = SimpleRNN(input_size, hidden_size, 5)"
   ]
  },
  {
   "cell_type": "code",
   "execution_count": 124,
   "id": "55192fea-c456-425a-b800-740e70522ed2",
   "metadata": {},
   "outputs": [],
   "source": [
    "# Define Loss and Optimizer\n",
    "criterion = nn.MSELoss()\n",
    "optimizer = torch.optim.Adam(model.parameters(), lr=0.001)"
   ]
  },
  {
   "cell_type": "code",
   "execution_count": 125,
   "id": "1726118c-c27b-4eda-8c01-eb1ac93ca17a",
   "metadata": {},
   "outputs": [],
   "source": [
    "# Training Loop with Early Stopping and Model Saving\n",
    "num_epochs = 50\n",
    "best_val_loss = float('inf')\n",
    "patience = 5\n",
    "early_stop_counter = 0"
   ]
  },
  {
   "cell_type": "code",
   "execution_count": 95,
   "id": "c4a51f9b-8fe9-418e-aea0-f2ba83f3d9df",
   "metadata": {},
   "outputs": [
    {
     "name": "stdout",
     "output_type": "stream",
     "text": [
      "Epoch [1/50], Loss: 0.021233178675174713, Val Loss: 0.2256016731262207\n",
      "Epoch [2/50], Loss: 0.014119969680905342, Val Loss: 0.19722840189933777\n",
      "Epoch [3/50], Loss: 0.010324264876544476, Val Loss: 0.17170961201190948\n",
      "Epoch [4/50], Loss: 0.009314298629760742, Val Loss: 0.15151570737361908\n",
      "Epoch [5/50], Loss: 0.00966446753591299, Val Loss: 0.13769209384918213\n",
      "Epoch [6/50], Loss: 0.009609987027943134, Val Loss: 0.12899693846702576\n",
      "Epoch [7/50], Loss: 0.008959651924669743, Val Loss: 0.12369596213102341\n",
      "Epoch [8/50], Loss: 0.008200219832360744, Val Loss: 0.12004461139440536\n",
      "Epoch [9/50], Loss: 0.007565079256892204, Val Loss: 0.11661694198846817\n",
      "Epoch [10/50], Loss: 0.0070414296351373196, Val Loss: 0.1125425174832344\n",
      "Epoch [11/50], Loss: 0.006554656196385622, Val Loss: 0.10742106288671494\n",
      "Epoch [12/50], Loss: 0.006056599784642458, Val Loss: 0.10113266110420227\n",
      "Epoch [13/50], Loss: 0.005535533651709557, Val Loss: 0.09369861334562302\n",
      "Epoch [14/50], Loss: 0.005000066477805376, Val Loss: 0.0852193757891655\n",
      "Epoch [15/50], Loss: 0.004463414195924997, Val Loss: 0.0758691132068634\n",
      "Epoch [16/50], Loss: 0.003934647422283888, Val Loss: 0.06592752784490585\n",
      "Epoch [17/50], Loss: 0.003417506581172347, Val Loss: 0.05583631992340088\n",
      "Epoch [18/50], Loss: 0.0029177155811339617, Val Loss: 0.0462583526968956\n",
      "Epoch [19/50], Loss: 0.0024620131589472294, Val Loss: 0.03807973861694336\n",
      "Epoch [20/50], Loss: 0.002132067922502756, Val Loss: 0.03216662257909775\n",
      "Epoch [21/50], Loss: 0.002084236592054367, Val Loss: 0.02835608646273613\n",
      "Epoch [22/50], Loss: 0.002326201181858778, Val Loss: 0.024763954803347588\n",
      "Epoch [23/50], Loss: 0.0023442786186933517, Val Loss: 0.020737851038575172\n",
      "Epoch [24/50], Loss: 0.0019962796941399574, Val Loss: 0.01747223734855652\n",
      "Epoch [25/50], Loss: 0.0016175321070477366, Val Loss: 0.015828292816877365\n",
      "Epoch [26/50], Loss: 0.0014024664415046573, Val Loss: 0.015564123168587685\n",
      "Epoch [27/50], Loss: 0.001343648647889495, Val Loss: 0.015951473265886307\n",
      "Epoch [28/50], Loss: 0.001370336045511067, Val Loss: 0.01640106737613678\n",
      "Epoch [29/50], Loss: 0.001423580339178443, Val Loss: 0.0166134275496006\n",
      "Epoch [30/50], Loss: 0.0014675998827442527, Val Loss: 0.01648801937699318\n",
      "Epoch [31/50], Loss: 0.0014843703247606754, Val Loss: 0.016014723107218742\n",
      "Early stopping\n"
     ]
    }
   ],
   "source": [
    "for epoch in range(num_epochs):\n",
    "    model.train()\n",
    "    outputs = model(X_train)\n",
    "    loss = criterion(outputs, y_train)\n",
    "    optimizer.zero_grad()\n",
    "    loss.backward()\n",
    "    optimizer.step()\n",
    "    \n",
    "    # Validation\n",
    "    model.eval()\n",
    "    with torch.no_grad():\n",
    "        val_outputs = model(X_val)\n",
    "        val_loss = criterion(val_outputs, y_val)\n",
    "    \n",
    "    print(f'Epoch [{epoch + 1}/{num_epochs}], Loss: {loss.item()}, Val Loss: {val_loss.item()}')\n",
    "    \n",
    "    # Early Stopping and Model Saving\n",
    "    if val_loss < best_val_loss:\n",
    "        best_val_loss = val_loss\n",
    "        torch.save(model.state_dict(), 'best_model.pth')\n",
    "        early_stop_counter = 0\n",
    "    else:\n",
    "        early_stop_counter += 1\n",
    "        if early_stop_counter >= patience:\n",
    "            print(\"Early stopping\")\n",
    "            break"
   ]
  },
  {
   "cell_type": "code",
   "execution_count": 126,
   "id": "7b1e7b3d-9f19-4473-9bf9-4cf4fe21b969",
   "metadata": {},
   "outputs": [
    {
     "data": {
      "text/plain": [
       "<All keys matched successfully>"
      ]
     },
     "execution_count": 126,
     "metadata": {},
     "output_type": "execute_result"
    }
   ],
   "source": [
    "# Load Best Model\n",
    "model.load_state_dict(torch.load('best_model.pth'))"
   ]
  },
  {
   "cell_type": "code",
   "execution_count": 127,
   "id": "4b43107c-8754-4638-b17e-646ad394f765",
   "metadata": {},
   "outputs": [
    {
     "name": "stdout",
     "output_type": "stream",
     "text": [
      "Validation Loss: 0.015564123168587685, MAE: 0.09361348301172256\n"
     ]
    }
   ],
   "source": [
    "# Evaluate Model\n",
    "model.eval()\n",
    "with torch.no_grad():\n",
    "    predictions = model(X_val)\n",
    "    val_loss = criterion(predictions, y_val)\n",
    "    mae = mean_absolute_error(y_val.numpy(), predictions.numpy())\n",
    "    print(f'Validation Loss: {val_loss.item()}, MAE: {mae}')"
   ]
  },
  {
   "cell_type": "code",
   "execution_count": 128,
   "id": "632e7f93-9978-4795-baee-0dad442b6717",
   "metadata": {},
   "outputs": [],
   "source": [
    "# Inverse Transform for Visualization\n",
    "def inverse_transform(scaled_data, scaler):\n",
    "    return scaler.inverse_transform(scaled_data)"
   ]
  },
  {
   "cell_type": "code",
   "execution_count": 130,
   "id": "8bb753af-c6b6-48d3-983d-1b33bfa672a0",
   "metadata": {},
   "outputs": [],
   "source": [
    "original_predictions = inverse_transform(predictions.detach().numpy(), scaler)\n",
    "true_stocks = inverse_transform(y_val.detach().numpy(), scaler)"
   ]
  },
  {
   "cell_type": "code",
   "execution_count": 131,
   "id": "5858e1eb-9119-40aa-b00b-62055a0c3aa3",
   "metadata": {},
   "outputs": [
    {
     "data": {
      "text/plain": [
       "[<matplotlib.lines.Line2D at 0x24ef0828f90>]"
      ]
     },
     "execution_count": 131,
     "metadata": {},
     "output_type": "execute_result"
    },
    {
     "data": {
      "image/png": "[encoded data removed]",
      "text/plain": [
       "<Figure size 640x480 with 1 Axes>"
      ]
     },
     "metadata": {},
     "output_type": "display_data"
    }
   ],
   "source": [
    "# Plot True vs Predicted Closing Prices\n",
    "time = np.array([i for i in range(len(true_stocks))])\n",
    "plt.plot(time, true_stocks[:, 3], color='green', label='True Close')  # True close prices\n",
    "plt.plot(time, original_predictions[:, 3], color='red', label='Predicted Close') "
   ]
  },
  {
   "cell_type": "code",
   "execution_count": 101,
   "id": "1695cf55-f863-42f1-9be9-df3588dbf6c5",
   "metadata": {},
   "outputs": [
    {
     "data": {
      "text/plain": [
       "<Figure size 640x480 with 0 Axes>"
      ]
     },
     "metadata": {},
     "output_type": "display_data"
    }
   ],
   "source": [
    "plt.savefig('analysis.png')\n"
   ]
  }
 ],
 "metadata": {
  "kernelspec": {
   "display_name": "Python 3 (ipykernel)",
   "language": "python",
   "name": "python3"
  },
  "language_info": {
   "codemirror_mode": {
    "name": "ipython",
    "version": 3
   },
   "file_extension": ".py",
   "mimetype": "text/x-python",
   "name": "python",
   "nbconvert_exporter": "python",
   "pygments_lexer": "ipython3",
   "version": "3.11.7"
  }
 },
 "nbformat": 4,
 "nbformat_minor": 5
}
